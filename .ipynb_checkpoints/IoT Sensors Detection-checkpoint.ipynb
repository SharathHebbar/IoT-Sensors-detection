{
 "cells": [
  {
   "cell_type": "markdown",
   "id": "3930a156",
   "metadata": {},
   "source": [
    "## Importing Libraries"
   ]
  },
  {
   "cell_type": "code",
   "execution_count": 127,
   "id": "43a494a8",
   "metadata": {},
   "outputs": [],
   "source": [
    "import pandas as pd\n",
    "import numpy as np"
   ]
  },
  {
   "cell_type": "code",
   "execution_count": 128,
   "id": "3e9391f9",
   "metadata": {},
   "outputs": [
    {
     "data": {
      "text/html": [
       "<div>\n",
       "<style scoped>\n",
       "    .dataframe tbody tr th:only-of-type {\n",
       "        vertical-align: middle;\n",
       "    }\n",
       "\n",
       "    .dataframe tbody tr th {\n",
       "        vertical-align: top;\n",
       "    }\n",
       "\n",
       "    .dataframe thead th {\n",
       "        text-align: right;\n",
       "    }\n",
       "</style>\n",
       "<table border=\"1\" class=\"dataframe\">\n",
       "  <thead>\n",
       "    <tr style=\"text-align: right;\">\n",
       "      <th></th>\n",
       "      <th>Sensor_Value</th>\n",
       "      <th>Tolerance_Value</th>\n",
       "      <th>Output</th>\n",
       "    </tr>\n",
       "  </thead>\n",
       "  <tbody>\n",
       "    <tr>\n",
       "      <th>0</th>\n",
       "      <td>0.7</td>\n",
       "      <td>0.01</td>\n",
       "      <td>pH</td>\n",
       "    </tr>\n",
       "    <tr>\n",
       "      <th>1</th>\n",
       "      <td>2.0</td>\n",
       "      <td>0.01</td>\n",
       "      <td>pH</td>\n",
       "    </tr>\n",
       "    <tr>\n",
       "      <th>2</th>\n",
       "      <td>10.0</td>\n",
       "      <td>0.01</td>\n",
       "      <td>pH</td>\n",
       "    </tr>\n",
       "    <tr>\n",
       "      <th>3</th>\n",
       "      <td>7.0</td>\n",
       "      <td>0.01</td>\n",
       "      <td>pH</td>\n",
       "    </tr>\n",
       "    <tr>\n",
       "      <th>4</th>\n",
       "      <td>7.5</td>\n",
       "      <td>0.01</td>\n",
       "      <td>pH</td>\n",
       "    </tr>\n",
       "    <tr>\n",
       "      <th>...</th>\n",
       "      <td>...</td>\n",
       "      <td>...</td>\n",
       "      <td>...</td>\n",
       "    </tr>\n",
       "    <tr>\n",
       "      <th>70</th>\n",
       "      <td>49.0</td>\n",
       "      <td>3.00</td>\n",
       "      <td>ultrasonic</td>\n",
       "    </tr>\n",
       "    <tr>\n",
       "      <th>71</th>\n",
       "      <td>39.0</td>\n",
       "      <td>3.00</td>\n",
       "      <td>ultrasonic</td>\n",
       "    </tr>\n",
       "    <tr>\n",
       "      <th>72</th>\n",
       "      <td>59.0</td>\n",
       "      <td>3.00</td>\n",
       "      <td>ultrasonic</td>\n",
       "    </tr>\n",
       "    <tr>\n",
       "      <th>73</th>\n",
       "      <td>69.0</td>\n",
       "      <td>3.00</td>\n",
       "      <td>ultrasonic</td>\n",
       "    </tr>\n",
       "    <tr>\n",
       "      <th>74</th>\n",
       "      <td>77.0</td>\n",
       "      <td>3.00</td>\n",
       "      <td>ultrasonic</td>\n",
       "    </tr>\n",
       "  </tbody>\n",
       "</table>\n",
       "<p>75 rows × 3 columns</p>\n",
       "</div>"
      ],
      "text/plain": [
       "    Sensor_Value  Tolerance_Value      Output\n",
       "0            0.7             0.01          pH\n",
       "1            2.0             0.01          pH\n",
       "2           10.0             0.01          pH\n",
       "3            7.0             0.01          pH\n",
       "4            7.5             0.01          pH\n",
       "..           ...              ...         ...\n",
       "70          49.0             3.00  ultrasonic\n",
       "71          39.0             3.00  ultrasonic\n",
       "72          59.0             3.00  ultrasonic\n",
       "73          69.0             3.00  ultrasonic\n",
       "74          77.0             3.00  ultrasonic\n",
       "\n",
       "[75 rows x 3 columns]"
      ]
     },
     "execution_count": 128,
     "metadata": {},
     "output_type": "execute_result"
    }
   ],
   "source": [
    "data = pd.read_csv('Sensors.csv')\n",
    "data"
   ]
  },
  {
   "cell_type": "code",
   "execution_count": 129,
   "id": "5508801b",
   "metadata": {},
   "outputs": [
    {
     "name": "stdout",
     "output_type": "stream",
     "text": [
      "<class 'pandas.core.frame.DataFrame'>\n",
      "RangeIndex: 75 entries, 0 to 74\n",
      "Data columns (total 3 columns):\n",
      " #   Column           Non-Null Count  Dtype  \n",
      "---  ------           --------------  -----  \n",
      " 0   Sensor_Value     75 non-null     float64\n",
      " 1   Tolerance_Value  75 non-null     float64\n",
      " 2   Output           75 non-null     object \n",
      "dtypes: float64(2), object(1)\n",
      "memory usage: 1.9+ KB\n"
     ]
    }
   ],
   "source": [
    "data.info()"
   ]
  },
  {
   "cell_type": "code",
   "execution_count": 130,
   "id": "2dc3f5bc",
   "metadata": {},
   "outputs": [
    {
     "data": {
      "text/html": [
       "<div>\n",
       "<style scoped>\n",
       "    .dataframe tbody tr th:only-of-type {\n",
       "        vertical-align: middle;\n",
       "    }\n",
       "\n",
       "    .dataframe tbody tr th {\n",
       "        vertical-align: top;\n",
       "    }\n",
       "\n",
       "    .dataframe thead th {\n",
       "        text-align: right;\n",
       "    }\n",
       "</style>\n",
       "<table border=\"1\" class=\"dataframe\">\n",
       "  <thead>\n",
       "    <tr style=\"text-align: right;\">\n",
       "      <th></th>\n",
       "      <th>Sensor_Value</th>\n",
       "      <th>Tolerance_Value</th>\n",
       "    </tr>\n",
       "  </thead>\n",
       "  <tbody>\n",
       "    <tr>\n",
       "      <th>count</th>\n",
       "      <td>75.000000</td>\n",
       "      <td>75.000000</td>\n",
       "    </tr>\n",
       "    <tr>\n",
       "      <th>mean</th>\n",
       "      <td>29.416000</td>\n",
       "      <td>1.935733</td>\n",
       "    </tr>\n",
       "    <tr>\n",
       "      <th>std</th>\n",
       "      <td>22.657157</td>\n",
       "      <td>1.173883</td>\n",
       "    </tr>\n",
       "    <tr>\n",
       "      <th>min</th>\n",
       "      <td>0.000000</td>\n",
       "      <td>0.010000</td>\n",
       "    </tr>\n",
       "    <tr>\n",
       "      <th>25%</th>\n",
       "      <td>8.750000</td>\n",
       "      <td>2.000000</td>\n",
       "    </tr>\n",
       "    <tr>\n",
       "      <th>50%</th>\n",
       "      <td>26.000000</td>\n",
       "      <td>2.000000</td>\n",
       "    </tr>\n",
       "    <tr>\n",
       "      <th>75%</th>\n",
       "      <td>45.000000</td>\n",
       "      <td>3.000000</td>\n",
       "    </tr>\n",
       "    <tr>\n",
       "      <th>max</th>\n",
       "      <td>80.000000</td>\n",
       "      <td>3.000000</td>\n",
       "    </tr>\n",
       "  </tbody>\n",
       "</table>\n",
       "</div>"
      ],
      "text/plain": [
       "       Sensor_Value  Tolerance_Value\n",
       "count     75.000000        75.000000\n",
       "mean      29.416000         1.935733\n",
       "std       22.657157         1.173883\n",
       "min        0.000000         0.010000\n",
       "25%        8.750000         2.000000\n",
       "50%       26.000000         2.000000\n",
       "75%       45.000000         3.000000\n",
       "max       80.000000         3.000000"
      ]
     },
     "execution_count": 130,
     "metadata": {},
     "output_type": "execute_result"
    }
   ],
   "source": [
    "data.describe()"
   ]
  },
  {
   "cell_type": "code",
   "execution_count": 131,
   "id": "eca64782",
   "metadata": {},
   "outputs": [
    {
     "data": {
      "text/plain": [
       "ultrasonic    31\n",
       "dht           26\n",
       "pH            18\n",
       "Name: Output, dtype: int64"
      ]
     },
     "execution_count": 131,
     "metadata": {},
     "output_type": "execute_result"
    }
   ],
   "source": [
    "data['Output'].value_counts()"
   ]
  },
  {
   "cell_type": "markdown",
   "id": "fd5b1584",
   "metadata": {},
   "source": [
    "### Correlation "
   ]
  },
  {
   "cell_type": "code",
   "execution_count": 16,
   "id": "b166f706",
   "metadata": {},
   "outputs": [],
   "source": [
    "import seaborn as sns"
   ]
  },
  {
   "cell_type": "code",
   "execution_count": 21,
   "id": "f133e55a",
   "metadata": {},
   "outputs": [
    {
     "data": {
      "text/plain": [
       "<AxesSubplot:>"
      ]
     },
     "execution_count": 21,
     "metadata": {},
     "output_type": "execute_result"
    },
    {
     "data": {
      "image/png": "[encoded data removed]",
      "text/plain": [
       "<Figure size 432x288 with 2 Axes>"
      ]
     },
     "metadata": {
      "needs_background": "light"
     },
     "output_type": "display_data"
    }
   ],
   "source": [
    "sns.heatmap(data.corr(), annot = True)"
   ]
  },
  {
   "cell_type": "code",
   "execution_count": 67,
   "id": "204564cb",
   "metadata": {},
   "outputs": [],
   "source": [
    "x = data.drop(['Output'], axis = 1)\n",
    "y = data.Output"
   ]
  },
  {
   "cell_type": "markdown",
   "id": "4e88e7b8",
   "metadata": {},
   "source": [
    "## Data Preprocessing "
   ]
  },
  {
   "cell_type": "code",
   "execution_count": 68,
   "id": "45212e84",
   "metadata": {},
   "outputs": [],
   "source": [
    "from sklearn.preprocessing import LabelEncoder\n",
    "le = LabelEncoder()"
   ]
  },
  {
   "cell_type": "code",
   "execution_count": 69,
   "id": "92f2d668",
   "metadata": {},
   "outputs": [],
   "source": [
    "y = le.fit_transform(y)"
   ]
  },
  {
   "cell_type": "code",
   "execution_count": 70,
   "id": "176a3988",
   "metadata": {},
   "outputs": [],
   "source": [
    "from sklearn.preprocessing import StandardScaler\n",
    "sc =StandardScaler()"
   ]
  },
  {
   "cell_type": "code",
   "execution_count": 72,
   "id": "100ff6f8",
   "metadata": {},
   "outputs": [],
   "source": [
    "x_train_sc = sc.fit_transform(x_train)\n",
    "x_test_sc = sc.transform(x_test)"
   ]
  },
  {
   "cell_type": "code",
   "execution_count": 73,
   "id": "d61e7312",
   "metadata": {},
   "outputs": [
    {
     "data": {
      "text/plain": [
       "(75, 2)"
      ]
     },
     "execution_count": 73,
     "metadata": {},
     "output_type": "execute_result"
    }
   ],
   "source": [
    "x.shape"
   ]
  },
  {
   "cell_type": "code",
   "execution_count": 74,
   "id": "76e207da",
   "metadata": {},
   "outputs": [
    {
     "data": {
      "text/plain": [
       "(75,)"
      ]
     },
     "execution_count": 74,
     "metadata": {},
     "output_type": "execute_result"
    }
   ],
   "source": [
    "y.shape"
   ]
  },
  {
   "cell_type": "markdown",
   "id": "3383d725",
   "metadata": {},
   "source": [
    "### Training and Testing Datasets"
   ]
  },
  {
   "cell_type": "code",
   "execution_count": 132,
   "id": "aed2bb9e",
   "metadata": {},
   "outputs": [],
   "source": [
    "from sklearn.model_selection import train_test_split\n",
    "x_train, x_test,y_train,y_test = train_test_split(x, y)"
   ]
  },
  {
   "cell_type": "markdown",
   "id": "166b751b",
   "metadata": {},
   "source": [
    "### Plotting Graphs"
   ]
  },
  {
   "cell_type": "code",
   "execution_count": 133,
   "id": "5ce89b6c",
   "metadata": {},
   "outputs": [],
   "source": [
    "import matplotlib.pyplot as plt"
   ]
  },
  {
   "cell_type": "code",
   "execution_count": 78,
   "id": "52377c81",
   "metadata": {},
   "outputs": [
    {
     "data": {
      "text/plain": [
       "0      0.7\n",
       "1      2.0\n",
       "2     10.0\n",
       "3      7.0\n",
       "4      7.5\n",
       "      ... \n",
       "70    49.0\n",
       "71    39.0\n",
       "72    59.0\n",
       "73    69.0\n",
       "74    77.0\n",
       "Name: Sensor_Value, Length: 75, dtype: float64"
      ]
     },
     "execution_count": 78,
     "metadata": {},
     "output_type": "execute_result"
    }
   ],
   "source": [
    "x.Sensor_Value"
   ]
  },
  {
   "cell_type": "code",
   "execution_count": 64,
   "id": "74223e49",
   "metadata": {},
   "outputs": [
    {
     "data": {
      "text/plain": [
       "array([1, 1, 1, 1, 1, 1, 1, 1, 1, 1, 1, 1, 1, 1, 1, 1, 1, 1, 0, 0, 0, 0,\n",
       "       0, 0, 0, 0, 0, 0, 0, 0, 0, 0, 0, 0, 0, 0, 0, 0, 0, 0, 0, 0, 0, 0,\n",
       "       2, 2, 2, 2, 2, 2, 2, 2, 2, 2, 2, 2, 2, 2, 2, 2, 2, 2, 2, 2, 2, 2,\n",
       "       2, 2, 2, 2, 2, 2, 2, 2, 2], dtype=int64)"
      ]
     },
     "execution_count": 64,
     "metadata": {},
     "output_type": "execute_result"
    }
   ],
   "source": [
    "y"
   ]
  },
  {
   "cell_type": "code",
   "execution_count": 92,
   "id": "8cb38371",
   "metadata": {},
   "outputs": [],
   "source": [
    "x1 = sc.fit_transform(x)"
   ]
  },
  {
   "cell_type": "code",
   "execution_count": 116,
   "id": "edae9a56",
   "metadata": {},
   "outputs": [
    {
     "data": {
      "text/plain": [
       "(array([-1.27594896, -1.21818556, -0.86271852, -0.99601866, -0.97380197,\n",
       "        -1.01823535, -1.1293188 , -1.06266873, -0.81828514, -0.95158528,\n",
       "        -1.04045204, -1.01823535, -0.88493521, -0.97380197, -1.15153549,\n",
       "        -1.1293188 , -1.21818556, -1.30705232, -0.64055161, -0.32951795,\n",
       "        -0.19621781,  0.38141614,  0.64801642, -0.15178443, -0.10735105,\n",
       "        -0.77385176, -0.32951795, -0.06291767,  0.15924924,  0.20368262,\n",
       "         0.64801642,  0.4702829 , -0.50725147, -0.81828514,  0.11481586,\n",
       "        -0.24065119,  0.6924498 ,  0.9146167 , -1.30705232,  0.33698276,\n",
       "         0.15924924, -0.32951795, -0.81828514, -1.26261894, -1.21818556,\n",
       "         1.13678361, -0.19621781,  1.62555079,  0.64801642,  1.27008375,\n",
       "         1.75885093,  1.80328432,  0.6924498 ,  0.78131656,  2.02545122,\n",
       "         2.24761812,  1.27008375,  1.53668403,  1.44781727, -0.77385176,\n",
       "        -0.10735105, -0.01848429,  0.38141614,  0.248116  , -1.17375218,\n",
       "        -0.64055161, -0.55168485, -0.46281809,  1.00348347,  0.95905009,\n",
       "         0.87018332,  0.42584952,  1.31451713,  1.75885093,  2.11431798]),\n",
       " array([-1.65152913, -1.65152913, -1.65152913, -1.65152913, -1.65152913,\n",
       "        -1.65152913, -1.65152913, -1.65152913, -1.65152913, -1.65152913,\n",
       "        -1.65152913, -1.65152913, -1.65152913, -1.65152913, -1.65152913,\n",
       "        -1.65152913, -1.65152913, -1.65152913,  0.05511577,  0.05511577,\n",
       "         0.05511577,  0.05511577,  0.05511577,  0.05511577,  0.05511577,\n",
       "         0.05511577,  0.05511577,  0.05511577,  0.05511577,  0.05511577,\n",
       "         0.05511577,  0.05511577,  0.05511577,  0.05511577,  0.05511577,\n",
       "         0.05511577,  0.05511577,  0.05511577,  0.05511577,  0.05511577,\n",
       "         0.05511577,  0.05511577,  0.05511577,  0.05511577,  0.91272627,\n",
       "         0.91272627,  0.91272627,  0.91272627,  0.91272627,  0.91272627,\n",
       "         0.91272627,  0.91272627,  0.91272627,  0.91272627,  0.91272627,\n",
       "         0.91272627,  0.91272627,  0.91272627,  0.91272627,  0.91272627,\n",
       "         0.91272627,  0.91272627,  0.91272627,  0.91272627,  0.91272627,\n",
       "         0.91272627,  0.91272627,  0.91272627,  0.91272627,  0.91272627,\n",
       "         0.91272627,  0.91272627,  0.91272627,  0.91272627,  0.91272627]))"
      ]
     },
     "execution_count": 116,
     "metadata": {},
     "output_type": "execute_result"
    }
   ],
   "source": [
    "x1[:,0],x1[:,1]"
   ]
  },
  {
   "cell_type": "code",
   "execution_count": 126,
   "id": "9606b9b8",
   "metadata": {},
   "outputs": [
    {
     "data": {
      "image/png": "[encoded data removed]",
      "text/plain": [
       "<Figure size 1152x864 with 2 Axes>"
      ]
     },
     "metadata": {
      "needs_background": "light"
     },
     "output_type": "display_data"
    }
   ],
   "source": [
    "plt.figure(figsize = (16,12))\n",
    "plt.subplot(2,2,1)\n",
    "plt.plot(x.Sensor_Value,y)\n",
    "plt.subplot(2,2,2)\n",
    "plt.plot(x.Tolerance_Value,y)\n",
    "plt.show()\n"
   ]
  },
  {
   "cell_type": "markdown",
   "id": "0cad77e0",
   "metadata": {},
   "source": [
    "## Applying Machine Learning Algorithms"
   ]
  },
  {
   "cell_type": "code",
   "execution_count": null,
   "id": "2bcd708f",
   "metadata": {},
   "outputs": [],
   "source": []
  },
  {
   "cell_type": "code",
   "execution_count": null,
   "id": "ef571e71",
   "metadata": {},
   "outputs": [],
   "source": []
  },
  {
   "cell_type": "code",
   "execution_count": null,
   "id": "07ad9790",
   "metadata": {},
   "outputs": [],
   "source": []
  }
 ],
 "metadata": {
  "kernelspec": {
   "display_name": "Python 3 (ipykernel)",
   "language": "python",
   "name": "python3"
  },
  "language_info": {
   "codemirror_mode": {
    "name": "ipython",
    "version": 3
   },
   "file_extension": ".py",
   "mimetype": "text/x-python",
   "name": "python",
   "nbconvert_exporter": "python",
   "pygments_lexer": "ipython3",
   "version": "3.9.6"
  }
 },
 "nbformat": 4,
 "nbformat_minor": 5
}
