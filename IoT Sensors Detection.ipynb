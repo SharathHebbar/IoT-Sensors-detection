{
 "cells": [
  {
   "cell_type": "markdown",
   "id": "1f4df6ce",
   "metadata": {},
   "source": [
    "## Importing Libraries"
   ]
  },
  {
   "cell_type": "code",
   "execution_count": 1,
   "id": "8242e157",
   "metadata": {},
   "outputs": [],
   "source": [
    "import pandas as pd\n",
    "import numpy as np"
   ]
  },
  {
   "cell_type": "code",
   "execution_count": 2,
   "id": "fbcc5258",
   "metadata": {},
   "outputs": [
    {
     "data": {
      "text/html": [
       "<div>\n",
       "<style scoped>\n",
       "    .dataframe tbody tr th:only-of-type {\n",
       "        vertical-align: middle;\n",
       "    }\n",
       "\n",
       "    .dataframe tbody tr th {\n",
       "        vertical-align: top;\n",
       "    }\n",
       "\n",
       "    .dataframe thead th {\n",
       "        text-align: right;\n",
       "    }\n",
       "</style>\n",
       "<table border=\"1\" class=\"dataframe\">\n",
       "  <thead>\n",
       "    <tr style=\"text-align: right;\">\n",
       "      <th></th>\n",
       "      <th>Sensor_Value</th>\n",
       "      <th>Tolerance_Value</th>\n",
       "      <th>Output</th>\n",
       "    </tr>\n",
       "  </thead>\n",
       "  <tbody>\n",
       "    <tr>\n",
       "      <th>0</th>\n",
       "      <td>0.7</td>\n",
       "      <td>0.01</td>\n",
       "      <td>pH</td>\n",
       "    </tr>\n",
       "    <tr>\n",
       "      <th>1</th>\n",
       "      <td>2.0</td>\n",
       "      <td>0.01</td>\n",
       "      <td>pH</td>\n",
       "    </tr>\n",
       "    <tr>\n",
       "      <th>2</th>\n",
       "      <td>10.0</td>\n",
       "      <td>0.01</td>\n",
       "      <td>pH</td>\n",
       "    </tr>\n",
       "    <tr>\n",
       "      <th>3</th>\n",
       "      <td>7.0</td>\n",
       "      <td>0.01</td>\n",
       "      <td>pH</td>\n",
       "    </tr>\n",
       "    <tr>\n",
       "      <th>4</th>\n",
       "      <td>7.5</td>\n",
       "      <td>0.01</td>\n",
       "      <td>pH</td>\n",
       "    </tr>\n",
       "    <tr>\n",
       "      <th>...</th>\n",
       "      <td>...</td>\n",
       "      <td>...</td>\n",
       "      <td>...</td>\n",
       "    </tr>\n",
       "    <tr>\n",
       "      <th>70</th>\n",
       "      <td>49.0</td>\n",
       "      <td>3.00</td>\n",
       "      <td>ultrasonic</td>\n",
       "    </tr>\n",
       "    <tr>\n",
       "      <th>71</th>\n",
       "      <td>39.0</td>\n",
       "      <td>3.00</td>\n",
       "      <td>ultrasonic</td>\n",
       "    </tr>\n",
       "    <tr>\n",
       "      <th>72</th>\n",
       "      <td>59.0</td>\n",
       "      <td>3.00</td>\n",
       "      <td>ultrasonic</td>\n",
       "    </tr>\n",
       "    <tr>\n",
       "      <th>73</th>\n",
       "      <td>69.0</td>\n",
       "      <td>3.00</td>\n",
       "      <td>ultrasonic</td>\n",
       "    </tr>\n",
       "    <tr>\n",
       "      <th>74</th>\n",
       "      <td>77.0</td>\n",
       "      <td>3.00</td>\n",
       "      <td>ultrasonic</td>\n",
       "    </tr>\n",
       "  </tbody>\n",
       "</table>\n",
       "<p>75 rows × 3 columns</p>\n",
       "</div>"
      ],
      "text/plain": [
       "    Sensor_Value  Tolerance_Value      Output\n",
       "0            0.7             0.01          pH\n",
       "1            2.0             0.01          pH\n",
       "2           10.0             0.01          pH\n",
       "3            7.0             0.01          pH\n",
       "4            7.5             0.01          pH\n",
       "..           ...              ...         ...\n",
       "70          49.0             3.00  ultrasonic\n",
       "71          39.0             3.00  ultrasonic\n",
       "72          59.0             3.00  ultrasonic\n",
       "73          69.0             3.00  ultrasonic\n",
       "74          77.0             3.00  ultrasonic\n",
       "\n",
       "[75 rows x 3 columns]"
      ]
     },
     "execution_count": 2,
     "metadata": {},
     "output_type": "execute_result"
    }
   ],
   "source": [
    "data = pd.read_csv('Sensors.csv')\n",
    "data"
   ]
  },
  {
   "cell_type": "code",
   "execution_count": 3,
   "id": "cf98f63c",
   "metadata": {},
   "outputs": [
    {
     "name": "stdout",
     "output_type": "stream",
     "text": [
      "<class 'pandas.core.frame.DataFrame'>\n",
      "RangeIndex: 75 entries, 0 to 74\n",
      "Data columns (total 3 columns):\n",
      " #   Column           Non-Null Count  Dtype  \n",
      "---  ------           --------------  -----  \n",
      " 0   Sensor_Value     75 non-null     float64\n",
      " 1   Tolerance_Value  75 non-null     float64\n",
      " 2   Output           75 non-null     object \n",
      "dtypes: float64(2), object(1)\n",
      "memory usage: 1.9+ KB\n"
     ]
    }
   ],
   "source": [
    "data.info()"
   ]
  },
  {
   "cell_type": "code",
   "execution_count": 4,
   "id": "eee7b5e4",
   "metadata": {},
   "outputs": [
    {
     "data": {
      "text/html": [
       "<div>\n",
       "<style scoped>\n",
       "    .dataframe tbody tr th:only-of-type {\n",
       "        vertical-align: middle;\n",
       "    }\n",
       "\n",
       "    .dataframe tbody tr th {\n",
       "        vertical-align: top;\n",
       "    }\n",
       "\n",
       "    .dataframe thead th {\n",
       "        text-align: right;\n",
       "    }\n",
       "</style>\n",
       "<table border=\"1\" class=\"dataframe\">\n",
       "  <thead>\n",
       "    <tr style=\"text-align: right;\">\n",
       "      <th></th>\n",
       "      <th>Sensor_Value</th>\n",
       "      <th>Tolerance_Value</th>\n",
       "    </tr>\n",
       "  </thead>\n",
       "  <tbody>\n",
       "    <tr>\n",
       "      <th>count</th>\n",
       "      <td>75.000000</td>\n",
       "      <td>75.000000</td>\n",
       "    </tr>\n",
       "    <tr>\n",
       "      <th>mean</th>\n",
       "      <td>29.416000</td>\n",
       "      <td>1.935733</td>\n",
       "    </tr>\n",
       "    <tr>\n",
       "      <th>std</th>\n",
       "      <td>22.657157</td>\n",
       "      <td>1.173883</td>\n",
       "    </tr>\n",
       "    <tr>\n",
       "      <th>min</th>\n",
       "      <td>0.000000</td>\n",
       "      <td>0.010000</td>\n",
       "    </tr>\n",
       "    <tr>\n",
       "      <th>25%</th>\n",
       "      <td>8.750000</td>\n",
       "      <td>2.000000</td>\n",
       "    </tr>\n",
       "    <tr>\n",
       "      <th>50%</th>\n",
       "      <td>26.000000</td>\n",
       "      <td>2.000000</td>\n",
       "    </tr>\n",
       "    <tr>\n",
       "      <th>75%</th>\n",
       "      <td>45.000000</td>\n",
       "      <td>3.000000</td>\n",
       "    </tr>\n",
       "    <tr>\n",
       "      <th>max</th>\n",
       "      <td>80.000000</td>\n",
       "      <td>3.000000</td>\n",
       "    </tr>\n",
       "  </tbody>\n",
       "</table>\n",
       "</div>"
      ],
      "text/plain": [
       "       Sensor_Value  Tolerance_Value\n",
       "count     75.000000        75.000000\n",
       "mean      29.416000         1.935733\n",
       "std       22.657157         1.173883\n",
       "min        0.000000         0.010000\n",
       "25%        8.750000         2.000000\n",
       "50%       26.000000         2.000000\n",
       "75%       45.000000         3.000000\n",
       "max       80.000000         3.000000"
      ]
     },
     "execution_count": 4,
     "metadata": {},
     "output_type": "execute_result"
    }
   ],
   "source": [
    "data.describe()"
   ]
  },
  {
   "cell_type": "code",
   "execution_count": 5,
   "id": "f286cbd6",
   "metadata": {},
   "outputs": [
    {
     "data": {
      "text/plain": [
       "ultrasonic    31\n",
       "dht           26\n",
       "pH            18\n",
       "Name: Output, dtype: int64"
      ]
     },
     "execution_count": 5,
     "metadata": {},
     "output_type": "execute_result"
    }
   ],
   "source": [
    "data['Output'].value_counts()"
   ]
  },
  {
   "cell_type": "markdown",
   "id": "de719a70",
   "metadata": {},
   "source": [
    "### Correlation "
   ]
  },
  {
   "cell_type": "code",
   "execution_count": 6,
   "id": "3dfa3402",
   "metadata": {},
   "outputs": [],
   "source": [
    "import seaborn as sns"
   ]
  },
  {
   "cell_type": "code",
   "execution_count": 7,
   "id": "78beec72",
   "metadata": {},
   "outputs": [
    {
     "data": {
      "text/plain": [
       "<AxesSubplot:>"
      ]
     },
     "execution_count": 7,
     "metadata": {},
     "output_type": "execute_result"
    },
    {
     "data": {
      "image/png": "[encoded data removed]",
      "text/plain": [
       "<Figure size 432x288 with 2 Axes>"
      ]
     },
     "metadata": {
      "needs_background": "light"
     },
     "output_type": "display_data"
    }
   ],
   "source": [
    "sns.heatmap(data.corr(), annot = True)"
   ]
  },
  {
   "cell_type": "code",
   "execution_count": 8,
   "id": "7ddaba27",
   "metadata": {},
   "outputs": [],
   "source": [
    "x = data.drop(['Output'], axis = 1)\n",
    "y = data.Output"
   ]
  },
  {
   "cell_type": "code",
   "execution_count": 9,
   "id": "05d2b581",
   "metadata": {},
   "outputs": [
    {
     "data": {
      "text/plain": [
       "(75, 2)"
      ]
     },
     "execution_count": 9,
     "metadata": {},
     "output_type": "execute_result"
    }
   ],
   "source": [
    "x.shape"
   ]
  },
  {
   "cell_type": "code",
   "execution_count": 10,
   "id": "32c93181",
   "metadata": {},
   "outputs": [
    {
     "data": {
      "text/plain": [
       "(75,)"
      ]
     },
     "execution_count": 10,
     "metadata": {},
     "output_type": "execute_result"
    }
   ],
   "source": [
    "y.shape"
   ]
  },
  {
   "cell_type": "markdown",
   "id": "b2d051e0",
   "metadata": {},
   "source": [
    "### Plotting Graphs"
   ]
  },
  {
   "cell_type": "code",
   "execution_count": 11,
   "id": "c412712e",
   "metadata": {},
   "outputs": [],
   "source": [
    "import matplotlib.pyplot as plt"
   ]
  },
  {
   "cell_type": "code",
   "execution_count": 12,
   "id": "bd873ede",
   "metadata": {},
   "outputs": [
    {
     "data": {
      "text/plain": [
       "0      0.7\n",
       "1      2.0\n",
       "2     10.0\n",
       "3      7.0\n",
       "4      7.5\n",
       "      ... \n",
       "70    49.0\n",
       "71    39.0\n",
       "72    59.0\n",
       "73    69.0\n",
       "74    77.0\n",
       "Name: Sensor_Value, Length: 75, dtype: float64"
      ]
     },
     "execution_count": 12,
     "metadata": {},
     "output_type": "execute_result"
    }
   ],
   "source": [
    "x.Sensor_Value"
   ]
  },
  {
   "cell_type": "code",
   "execution_count": 13,
   "id": "946d0ecc",
   "metadata": {},
   "outputs": [
    {
     "data": {
      "text/plain": [
       "0             pH\n",
       "1             pH\n",
       "2             pH\n",
       "3             pH\n",
       "4             pH\n",
       "         ...    \n",
       "70    ultrasonic\n",
       "71    ultrasonic\n",
       "72    ultrasonic\n",
       "73    ultrasonic\n",
       "74    ultrasonic\n",
       "Name: Output, Length: 75, dtype: object"
      ]
     },
     "execution_count": 13,
     "metadata": {},
     "output_type": "execute_result"
    }
   ],
   "source": [
    "y"
   ]
  },
  {
   "cell_type": "code",
   "execution_count": 14,
   "id": "40b340e7",
   "metadata": {},
   "outputs": [
    {
     "data": {
      "image/png": "[encoded data removed]",
      "text/plain": [
       "<Figure size 1152x864 with 2 Axes>"
      ]
     },
     "metadata": {
      "needs_background": "light"
     },
     "output_type": "display_data"
    }
   ],
   "source": [
    "plt.figure(figsize = (16,12))\n",
    "plt.subplot(2,2,1)\n",
    "plt.plot(x.Sensor_Value,y)\n",
    "plt.subplot(2,2,2)\n",
    "plt.plot(x.Tolerance_Value,y)\n",
    "plt.show()\n"
   ]
  },
  {
   "cell_type": "markdown",
   "id": "3a434f73",
   "metadata": {},
   "source": [
    "## Data Preprocessing "
   ]
  },
  {
   "cell_type": "code",
   "execution_count": 15,
   "id": "706c4742",
   "metadata": {},
   "outputs": [
    {
     "data": {
      "text/plain": [
       "(array(['pH', 'pH', 'pH', 'pH', 'pH', 'pH', 'pH', 'pH', 'pH', 'pH', 'pH',\n",
       "        'pH', 'pH', 'pH', 'pH', 'pH', 'pH', 'pH', 'dht', 'dht', 'dht',\n",
       "        'dht', 'dht', 'dht', 'dht', 'dht', 'dht', 'dht', 'dht', 'dht',\n",
       "        'dht', 'dht', 'dht', 'dht', 'dht', 'dht', 'dht', 'dht', 'dht',\n",
       "        'dht', 'dht', 'dht', 'dht', 'dht', 'ultrasonic', 'ultrasonic',\n",
       "        'ultrasonic', 'ultrasonic', 'ultrasonic', 'ultrasonic',\n",
       "        'ultrasonic', 'ultrasonic', 'ultrasonic', 'ultrasonic',\n",
       "        'ultrasonic', 'ultrasonic', 'ultrasonic', 'ultrasonic',\n",
       "        'ultrasonic', 'ultrasonic', 'ultrasonic', 'ultrasonic',\n",
       "        'ultrasonic', 'ultrasonic', 'ultrasonic', 'ultrasonic',\n",
       "        'ultrasonic', 'ultrasonic', 'ultrasonic', 'ultrasonic',\n",
       "        'ultrasonic', 'ultrasonic', 'ultrasonic', 'ultrasonic',\n",
       "        'ultrasonic'], dtype=object),\n",
       " (75, 2))"
      ]
     },
     "execution_count": 15,
     "metadata": {},
     "output_type": "execute_result"
    }
   ],
   "source": [
    "y = data.iloc[:,-1].values\n",
    "x = data.iloc[:,0:2].values\n",
    "y,x.shape"
   ]
  },
  {
   "cell_type": "code",
   "execution_count": 16,
   "id": "fd92064c",
   "metadata": {},
   "outputs": [],
   "source": [
    "from sklearn.preprocessing import LabelEncoder\n",
    "le = LabelEncoder()"
   ]
  },
  {
   "cell_type": "code",
   "execution_count": 17,
   "id": "7f97d852",
   "metadata": {},
   "outputs": [],
   "source": [
    "y = le.fit_transform(y)\n"
   ]
  },
  {
   "cell_type": "markdown",
   "id": "c1f24c9d",
   "metadata": {},
   "source": [
    "### Training and Testing Datasets"
   ]
  },
  {
   "cell_type": "code",
   "execution_count": 18,
   "id": "6ea6f09c",
   "metadata": {},
   "outputs": [],
   "source": [
    "from sklearn.model_selection import train_test_split\n",
    "x_train, x_test,y_train,y_test = train_test_split(x, y)"
   ]
  },
  {
   "cell_type": "markdown",
   "id": "7c356e1b",
   "metadata": {},
   "source": [
    "## Scaling dataset"
   ]
  },
  {
   "cell_type": "code",
   "execution_count": 19,
   "id": "710ccff4",
   "metadata": {},
   "outputs": [],
   "source": [
    "from sklearn.preprocessing import StandardScaler\n",
    "sc =StandardScaler()"
   ]
  },
  {
   "cell_type": "code",
   "execution_count": 20,
   "id": "3cd952b0",
   "metadata": {},
   "outputs": [],
   "source": [
    "x_train_sc = sc.fit_transform(x_train)\n",
    "x_test_sc = sc.transform(x_test)"
   ]
  },
  {
   "cell_type": "code",
   "execution_count": 21,
   "id": "a1ff13ac",
   "metadata": {},
   "outputs": [
    {
     "data": {
      "text/plain": [
       "(array([[-0.96629606, -1.85101488],\n",
       "        [ 0.12075668, -0.05025453],\n",
       "        [ 1.29839715,  0.85465017],\n",
       "        [ 0.70957691,  0.85465017],\n",
       "        [-0.83041447, -1.85101488],\n",
       "        [-0.19630037,  0.85465017],\n",
       "        [ 2.29486216,  0.85465017],\n",
       "        [-0.64923901,  0.85465017],\n",
       "        [-0.01512492,  0.85465017],\n",
       "        [-0.33218196, -0.05025453],\n",
       "        [-0.06041878, -0.05025453],\n",
       "        [ 1.4795726 ,  0.85465017],\n",
       "        [-1.32864698, -1.85101488],\n",
       "        [ 0.48310759, -0.05025453],\n",
       "        [-0.55865129,  0.85465017],\n",
       "        [-1.28335311, -0.05025453],\n",
       "        [ 0.89075237,  0.85465017],\n",
       "        [-1.32864698, -0.05025453],\n",
       "        [-0.78512061, -0.05025453],\n",
       "        [-1.05688379, -1.85101488],\n",
       "        [ 1.57016033,  0.85465017],\n",
       "        [-1.07953072, -1.85101488],\n",
       "        [ 0.347226  , -0.05025453],\n",
       "        [-1.17011845, -1.85101488],\n",
       "        [-0.10571264,  0.85465017],\n",
       "        [ 0.9813401 ,  0.85465017],\n",
       "        [-0.83041447, -0.05025453],\n",
       "        [ 1.02663396,  0.85465017],\n",
       "        [ 0.93604623, -0.05025453],\n",
       "        [-0.33218196, -0.05025453],\n",
       "        [ 2.15898056,  0.85465017],\n",
       "        [ 1.16251555,  0.85465017],\n",
       "        [-1.19276538,  0.85465017],\n",
       "        [-0.10571264, -0.05025453],\n",
       "        [-1.29694127, -1.85101488],\n",
       "        [-1.23805925,  0.85465017],\n",
       "        [-1.23805925, -1.85101488],\n",
       "        [-1.03423686, -1.85101488],\n",
       "        [ 2.06839284,  0.85465017],\n",
       "        [ 1.34369101,  0.85465017],\n",
       "        [-1.03423686, -1.85101488],\n",
       "        [-0.46806356,  0.85465017],\n",
       "        [ 0.25663827,  0.85465017],\n",
       "        [ 0.66428305,  0.85465017],\n",
       "        [-0.83041447, -0.05025453],\n",
       "        [ 0.66428305, -0.05025453],\n",
       "        [ 0.39251986, -0.05025453],\n",
       "        [ 0.39251986,  0.85465017],\n",
       "        [-0.64923901, -0.05025453],\n",
       "        [-1.14747152, -1.85101488],\n",
       "        [-0.24159424, -0.05025453],\n",
       "        [ 0.21134441, -0.05025453],\n",
       "        [ 1.29839715,  0.85465017],\n",
       "        [ 0.70957691, -0.05025453],\n",
       "        [-0.51335742, -0.05025453],\n",
       "        [ 0.43781373,  0.85465017]]),\n",
       " array([[-0.19630037, -0.05025453],\n",
       "        [ 0.66428305, -0.05025453],\n",
       "        [ 1.66074806,  0.85465017],\n",
       "        [-0.33218196, -0.05025453],\n",
       "        [-0.78512061,  0.85465017],\n",
       "        [ 0.16605054, -0.05025453],\n",
       "        [-0.87570833, -1.85101488],\n",
       "        [-1.01158993, -1.85101488],\n",
       "        [-0.15100651, -0.05025453],\n",
       "        [-0.988943  , -1.85101488],\n",
       "        [ 1.84192352,  0.85465017],\n",
       "        [-0.988943  , -1.85101488],\n",
       "        [ 0.16605054, -0.05025453],\n",
       "        [ 1.79662965,  0.85465017],\n",
       "        [-0.89835527, -1.85101488],\n",
       "        [ 0.80016464,  0.85465017],\n",
       "        [-1.14747152, -1.85101488],\n",
       "        [-1.23805925, -1.85101488],\n",
       "        [ 1.79662965,  0.85465017]]))"
      ]
     },
     "execution_count": 21,
     "metadata": {},
     "output_type": "execute_result"
    }
   ],
   "source": [
    "x_train_sc,x_test_sc"
   ]
  },
  {
   "cell_type": "code",
   "execution_count": 22,
   "id": "4c9a37b9",
   "metadata": {},
   "outputs": [
    {
     "data": {
      "text/plain": [
       "(array([1, 0, 2, 2, 1, 2, 2, 2, 2, 0, 0, 2, 1, 0, 2, 0, 2, 0, 0, 1, 2, 1,\n",
       "        0, 1, 2, 2, 0, 2, 0, 0, 2, 2, 2, 0, 1, 2, 1, 1, 2, 2, 1, 2, 2, 2,\n",
       "        0, 0, 0, 2, 0, 1, 0, 0, 2, 0, 0, 2]),\n",
       " array([0, 0, 2, 0, 2, 0, 1, 1, 0, 1, 2, 1, 0, 2, 1, 2, 1, 1, 2]))"
      ]
     },
     "execution_count": 22,
     "metadata": {},
     "output_type": "execute_result"
    }
   ],
   "source": [
    "y_train,y_test"
   ]
  },
  {
   "cell_type": "markdown",
   "id": "bbc4ed5d",
   "metadata": {},
   "source": [
    "## Applying Machine Learning Algorithms"
   ]
  },
  {
   "cell_type": "markdown",
   "id": "81bbe8d8",
   "metadata": {},
   "source": [
    "## Logistic Regression"
   ]
  },
  {
   "cell_type": "code",
   "execution_count": 65,
   "id": "7d115e89",
   "metadata": {},
   "outputs": [
    {
     "data": {
      "text/plain": [
       "LogisticRegression()"
      ]
     },
     "execution_count": 65,
     "metadata": {},
     "output_type": "execute_result"
    }
   ],
   "source": [
    "from sklearn.linear_model import LogisticRegression\n",
    "lr = LogisticRegression()\n",
    "lr.fit(x_train,y_train)\n"
   ]
  },
  {
   "cell_type": "code",
   "execution_count": 66,
   "id": "14090f48",
   "metadata": {},
   "outputs": [
    {
     "data": {
      "text/plain": [
       "1.0"
      ]
     },
     "execution_count": 66,
     "metadata": {},
     "output_type": "execute_result"
    }
   ],
   "source": [
    "lr.score(x_train,y_train)"
   ]
  },
  {
   "cell_type": "code",
   "execution_count": 67,
   "id": "6756c925",
   "metadata": {},
   "outputs": [
    {
     "data": {
      "text/plain": [
       "1.0"
      ]
     },
     "execution_count": 67,
     "metadata": {},
     "output_type": "execute_result"
    }
   ],
   "source": [
    "lr.score(x_test,y_test)"
   ]
  },
  {
   "cell_type": "code",
   "execution_count": 68,
   "id": "cb1d679b",
   "metadata": {},
   "outputs": [
    {
     "data": {
      "text/plain": [
       "LogisticRegression()"
      ]
     },
     "execution_count": 68,
     "metadata": {},
     "output_type": "execute_result"
    }
   ],
   "source": [
    "lr1 = LogisticRegression()\n",
    "lr1.fit(x_train_sc,y_train)"
   ]
  },
  {
   "cell_type": "code",
   "execution_count": 69,
   "id": "cfdbea43",
   "metadata": {},
   "outputs": [
    {
     "data": {
      "text/plain": [
       "1.0"
      ]
     },
     "execution_count": 69,
     "metadata": {},
     "output_type": "execute_result"
    }
   ],
   "source": [
    "lr1.score(x_train_sc,y_train)"
   ]
  },
  {
   "cell_type": "code",
   "execution_count": 70,
   "id": "0f62a4e9",
   "metadata": {},
   "outputs": [
    {
     "data": {
      "text/plain": [
       "1.0"
      ]
     },
     "execution_count": 70,
     "metadata": {},
     "output_type": "execute_result"
    }
   ],
   "source": [
    "lr1.score(x_test_sc,y_test)"
   ]
  },
  {
   "cell_type": "markdown",
   "id": "f94f19fd",
   "metadata": {},
   "source": [
    "## Support Vector Machine"
   ]
  },
  {
   "cell_type": "code",
   "execution_count": 71,
   "id": "bb151903",
   "metadata": {},
   "outputs": [],
   "source": [
    "from sklearn.svm import LinearSVC\n",
    "svc = LinearSVC()\n"
   ]
  },
  {
   "cell_type": "code",
   "execution_count": 72,
   "id": "7bc09e2a",
   "metadata": {},
   "outputs": [
    {
     "name": "stderr",
     "output_type": "stream",
     "text": [
      "c:\\users\\hebbar\\appdata\\local\\programs\\python\\python39\\lib\\site-packages\\sklearn\\svm\\_base.py:1199: ConvergenceWarning: Liblinear failed to converge, increase the number of iterations.\n",
      "  warnings.warn(\n"
     ]
    },
    {
     "data": {
      "text/plain": [
       "LinearSVC()"
      ]
     },
     "execution_count": 72,
     "metadata": {},
     "output_type": "execute_result"
    }
   ],
   "source": [
    "svc.fit(x_train,y_train)\n"
   ]
  },
  {
   "cell_type": "code",
   "execution_count": 73,
   "id": "de6ea085",
   "metadata": {},
   "outputs": [
    {
     "data": {
      "text/plain": [
       "0.6428571428571429"
      ]
     },
     "execution_count": 73,
     "metadata": {},
     "output_type": "execute_result"
    }
   ],
   "source": [
    "svc.score(x_train,y_train)"
   ]
  },
  {
   "cell_type": "code",
   "execution_count": 74,
   "id": "1187126c",
   "metadata": {},
   "outputs": [
    {
     "data": {
      "text/plain": [
       "0.7368421052631579"
      ]
     },
     "execution_count": 74,
     "metadata": {},
     "output_type": "execute_result"
    }
   ],
   "source": [
    "svc.score(x_test,y_test)"
   ]
  },
  {
   "cell_type": "code",
   "execution_count": 75,
   "id": "65708d1f",
   "metadata": {},
   "outputs": [
    {
     "data": {
      "text/plain": [
       "LinearSVC()"
      ]
     },
     "execution_count": 75,
     "metadata": {},
     "output_type": "execute_result"
    }
   ],
   "source": [
    "svc1 = LinearSVC()\n",
    "svc1.fit(x_train_sc,y_train)"
   ]
  },
  {
   "cell_type": "code",
   "execution_count": 76,
   "id": "97ca0aa3",
   "metadata": {},
   "outputs": [
    {
     "data": {
      "text/plain": [
       "1.0"
      ]
     },
     "execution_count": 76,
     "metadata": {},
     "output_type": "execute_result"
    }
   ],
   "source": [
    "svc1.score(x_train_sc,y_train)"
   ]
  },
  {
   "cell_type": "code",
   "execution_count": 77,
   "id": "a3231c81",
   "metadata": {},
   "outputs": [
    {
     "data": {
      "text/plain": [
       "1.0"
      ]
     },
     "execution_count": 77,
     "metadata": {},
     "output_type": "execute_result"
    }
   ],
   "source": [
    "svc1.score(x_test_sc,y_test)"
   ]
  },
  {
   "cell_type": "markdown",
   "id": "61542374",
   "metadata": {},
   "source": [
    "## K Nearest Neighbour "
   ]
  },
  {
   "cell_type": "code",
   "execution_count": 51,
   "id": "ec911f1b",
   "metadata": {},
   "outputs": [],
   "source": [
    "from sklearn.neighbors import KNeighborsClassifier\n",
    "knn = KNeighborsClassifier()\n"
   ]
  },
  {
   "cell_type": "code",
   "execution_count": 52,
   "id": "95b68587",
   "metadata": {},
   "outputs": [
    {
     "data": {
      "text/plain": [
       "KNeighborsClassifier()"
      ]
     },
     "execution_count": 52,
     "metadata": {},
     "output_type": "execute_result"
    }
   ],
   "source": [
    "knn.fit(x_train,y_train)\n"
   ]
  },
  {
   "cell_type": "code",
   "execution_count": 53,
   "id": "15cac110",
   "metadata": {},
   "outputs": [
    {
     "data": {
      "text/plain": [
       "0.6964285714285714"
      ]
     },
     "execution_count": 53,
     "metadata": {},
     "output_type": "execute_result"
    }
   ],
   "source": [
    "knn.score(x_train,y_train)"
   ]
  },
  {
   "cell_type": "code",
   "execution_count": 54,
   "id": "6e82e4c5",
   "metadata": {},
   "outputs": [
    {
     "data": {
      "text/plain": [
       "0.8947368421052632"
      ]
     },
     "execution_count": 54,
     "metadata": {},
     "output_type": "execute_result"
    }
   ],
   "source": [
    "knn.score(x_test,y_test)"
   ]
  },
  {
   "cell_type": "code",
   "execution_count": 55,
   "id": "9218e3d8",
   "metadata": {},
   "outputs": [
    {
     "data": {
      "text/plain": [
       "KNeighborsClassifier()"
      ]
     },
     "execution_count": 55,
     "metadata": {},
     "output_type": "execute_result"
    }
   ],
   "source": [
    "knn1 = KNeighborsClassifier()\n",
    "knn1.fit(x_train_sc,y_train)"
   ]
  },
  {
   "cell_type": "code",
   "execution_count": 56,
   "id": "fe3a515a",
   "metadata": {},
   "outputs": [
    {
     "data": {
      "text/plain": [
       "1.0"
      ]
     },
     "execution_count": 56,
     "metadata": {},
     "output_type": "execute_result"
    }
   ],
   "source": [
    "knn1.score(x_train_sc,y_train)"
   ]
  },
  {
   "cell_type": "code",
   "execution_count": 57,
   "id": "79d1f838",
   "metadata": {},
   "outputs": [
    {
     "data": {
      "text/plain": [
       "1.0"
      ]
     },
     "execution_count": 57,
     "metadata": {},
     "output_type": "execute_result"
    }
   ],
   "source": [
    "knn1.score(x_test_sc,y_test)"
   ]
  },
  {
   "cell_type": "markdown",
   "id": "b463ea11",
   "metadata": {},
   "source": [
    "## Decision Trees"
   ]
  },
  {
   "cell_type": "code",
   "execution_count": 78,
   "id": "fb604f02",
   "metadata": {},
   "outputs": [],
   "source": [
    "from sklearn.tree import DecisionTreeClassifier\n",
    "dtc = DecisionTreeClassifier()"
   ]
  },
  {
   "cell_type": "code",
   "execution_count": 79,
   "id": "344a77ab",
   "metadata": {},
   "outputs": [
    {
     "data": {
      "text/plain": [
       "DecisionTreeClassifier()"
      ]
     },
     "execution_count": 79,
     "metadata": {},
     "output_type": "execute_result"
    }
   ],
   "source": [
    "dtc.fit(x_train,y_train)"
   ]
  },
  {
   "cell_type": "code",
   "execution_count": 80,
   "id": "b357dd06",
   "metadata": {},
   "outputs": [
    {
     "data": {
      "text/plain": [
       "1.0"
      ]
     },
     "execution_count": 80,
     "metadata": {},
     "output_type": "execute_result"
    }
   ],
   "source": [
    "dtc.score(x_train,y_train)"
   ]
  },
  {
   "cell_type": "code",
   "execution_count": 81,
   "id": "a33e1932",
   "metadata": {},
   "outputs": [
    {
     "data": {
      "text/plain": [
       "1.0"
      ]
     },
     "execution_count": 81,
     "metadata": {},
     "output_type": "execute_result"
    }
   ],
   "source": [
    "dtc.score(x_test,y_test)"
   ]
  },
  {
   "cell_type": "code",
   "execution_count": 98,
   "id": "75d45df5",
   "metadata": {},
   "outputs": [
    {
     "data": {
      "text/plain": [
       "DecisionTreeClassifier()"
      ]
     },
     "execution_count": 98,
     "metadata": {},
     "output_type": "execute_result"
    }
   ],
   "source": [
    "dtc1 = DecisionTreeClassifier()\n",
    "dtc1.fit(x_train_sc,y_train)"
   ]
  },
  {
   "cell_type": "code",
   "execution_count": 99,
   "id": "1e3fc974",
   "metadata": {},
   "outputs": [
    {
     "data": {
      "text/plain": [
       "1.0"
      ]
     },
     "execution_count": 99,
     "metadata": {},
     "output_type": "execute_result"
    }
   ],
   "source": [
    "dtc1.score(x_train_sc,y_train)"
   ]
  },
  {
   "cell_type": "code",
   "execution_count": 100,
   "id": "c99486e6",
   "metadata": {},
   "outputs": [
    {
     "data": {
      "text/plain": [
       "1.0"
      ]
     },
     "execution_count": 100,
     "metadata": {},
     "output_type": "execute_result"
    }
   ],
   "source": [
    "dtc1.score(x_test_sc,y_test)"
   ]
  },
  {
   "cell_type": "markdown",
   "id": "38a51734",
   "metadata": {},
   "source": [
    "## Random Forest"
   ]
  },
  {
   "cell_type": "code",
   "execution_count": 89,
   "id": "4596d856",
   "metadata": {},
   "outputs": [],
   "source": [
    "from sklearn.ensemble import RandomForestClassifier\n",
    "rfc = RandomForestClassifier()"
   ]
  },
  {
   "cell_type": "code",
   "execution_count": 101,
   "id": "07911ad8",
   "metadata": {},
   "outputs": [
    {
     "data": {
      "text/plain": [
       "RandomForestClassifier()"
      ]
     },
     "execution_count": 101,
     "metadata": {},
     "output_type": "execute_result"
    }
   ],
   "source": [
    "rfc.fit(x_train,y_train)"
   ]
  },
  {
   "cell_type": "code",
   "execution_count": 102,
   "id": "74f5a9f8",
   "metadata": {},
   "outputs": [
    {
     "data": {
      "text/plain": [
       "1.0"
      ]
     },
     "execution_count": 102,
     "metadata": {},
     "output_type": "execute_result"
    }
   ],
   "source": [
    "rfc.score(x_train,y_train)"
   ]
  },
  {
   "cell_type": "code",
   "execution_count": 103,
   "id": "8d1e1458",
   "metadata": {},
   "outputs": [
    {
     "data": {
      "text/plain": [
       "1.0"
      ]
     },
     "execution_count": 103,
     "metadata": {},
     "output_type": "execute_result"
    }
   ],
   "source": [
    "rfc.score(x_test,y_test)"
   ]
  },
  {
   "cell_type": "code",
   "execution_count": 104,
   "id": "70ffe99e",
   "metadata": {},
   "outputs": [
    {
     "data": {
      "text/plain": [
       "RandomForestClassifier()"
      ]
     },
     "execution_count": 104,
     "metadata": {},
     "output_type": "execute_result"
    }
   ],
   "source": [
    "rfc1 = RandomForestClassifier()\n",
    "rfc1.fit(x_train,y_train)"
   ]
  },
  {
   "cell_type": "code",
   "execution_count": 105,
   "id": "98d06eed",
   "metadata": {},
   "outputs": [
    {
     "data": {
      "text/plain": [
       "0.19642857142857142"
      ]
     },
     "execution_count": 105,
     "metadata": {},
     "output_type": "execute_result"
    }
   ],
   "source": [
    "rfc1.score(x_train_sc,y_train)"
   ]
  },
  {
   "cell_type": "code",
   "execution_count": 106,
   "id": "11f355cc",
   "metadata": {},
   "outputs": [
    {
     "data": {
      "text/plain": [
       "0.3684210526315789"
      ]
     },
     "execution_count": 106,
     "metadata": {},
     "output_type": "execute_result"
    }
   ],
   "source": [
    "rfc1.score(x_test_sc,y_test)"
   ]
  },
  {
   "cell_type": "code",
   "execution_count": null,
   "id": "a5f66d0e",
   "metadata": {},
   "outputs": [],
   "source": []
  }
 ],
 "metadata": {
  "kernelspec": {
   "display_name": "Python 3 (ipykernel)",
   "language": "python",
   "name": "python3"
  },
  "language_info": {
   "codemirror_mode": {
    "name": "ipython",
    "version": 3
   },
   "file_extension": ".py",
   "mimetype": "text/x-python",
   "name": "python",
   "nbconvert_exporter": "python",
   "pygments_lexer": "ipython3",
   "version": "3.9.6"
  }
 },
 "nbformat": 4,
 "nbformat_minor": 5
}
